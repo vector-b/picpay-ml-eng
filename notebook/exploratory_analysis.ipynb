{
 "cells": [
  {
   "cell_type": "code",
   "execution_count": 1,
   "metadata": {},
   "outputs": [
    {
     "name": "stderr",
     "output_type": "stream",
     "text": [
      "24/09/02 19:49:02 WARN Utils: Your hostname, victor-gabriel-pc resolves to a loopback address: 127.0.1.1; using 192.168.31.210 instead (on interface wlp2s0)\n",
      "24/09/02 19:49:02 WARN Utils: Set SPARK_LOCAL_IP if you need to bind to another address\n",
      "Setting default log level to \"WARN\".\n",
      "To adjust logging level use sc.setLogLevel(newLevel). For SparkR, use setLogLevel(newLevel).\n",
      "24/09/02 19:49:04 WARN NativeCodeLoader: Unable to load native-hadoop library for your platform... using builtin-java classes where applicable\n"
     ]
    }
   ],
   "source": [
    "from pyspark.sql import SparkSession\n",
    "from pyspark.sql.functions import col, date_format\n",
    "import sys\n",
    "import os\n",
    "from apis.airportdb import AirportDB\n",
    "\n",
    "spark = SparkSession.builder.appName(\"EDA with PySpark\").getOrCreate()"
   ]
  },
  {
   "cell_type": "code",
   "execution_count": 2,
   "metadata": {},
   "outputs": [
    {
     "data": {
      "text/plain": [
       "'/home/victor-gabriel/Documents/repos/picpay-ml-eng/notebook'"
      ]
     },
     "execution_count": 2,
     "metadata": {},
     "output_type": "execute_result"
    }
   ],
   "source": [
    "os.getcwd()"
   ]
  },
  {
   "cell_type": "code",
   "execution_count": 3,
   "metadata": {},
   "outputs": [
    {
     "name": "stderr",
     "output_type": "stream",
     "text": [
      "                                                                                \r"
     ]
    }
   ],
   "source": [
    "df = spark.read.csv(\"../data/airports-database.csv\", header=True, inferSchema=True)"
   ]
  },
  {
   "cell_type": "code",
   "execution_count": 4,
   "metadata": {},
   "outputs": [
    {
     "name": "stdout",
     "output_type": "stream",
     "text": [
      "+---+----+-----+---+--------+--------------+---------+--------+--------------+---------+-------+------+-------+------+----+--------+--------+----+------+-------------------+--------------------+\n",
      "| id|year|month|day|dep_time|sched_dep_time|dep_delay|arr_time|sched_arr_time|arr_delay|carrier|flight|tailnum|origin|dest|air_time|distance|hour|minute|          time_hour|                name|\n",
      "+---+----+-----+---+--------+--------------+---------+--------+--------------+---------+-------+------+-------+------+----+--------+--------+----+------+-------------------+--------------------+\n",
      "|  0|2013|    1|  1|   517.0|           515|      2.0|   830.0|           819|     11.0|     UA|  1545| N14228|   EWR| IAH|   227.0|    1400|   5|    15|2013-01-01 05:00:00|United Air Lines ...|\n",
      "|  1|2013|    1|  1|   533.0|           529|      4.0|   850.0|           830|     20.0|     UA|  1714| N24211|   LGA| IAH|   227.0|    1416|   5|    29|2013-01-01 05:00:00|United Air Lines ...|\n",
      "|  2|2013|    1|  1|   542.0|           540|      2.0|   923.0|           850|     33.0|     AA|  1141| N619AA|   JFK| MIA|   160.0|    1089|   5|    40|2013-01-01 05:00:00|American Airlines...|\n",
      "|  3|2013|    1|  1|   544.0|           545|     -1.0|  1004.0|          1022|    -18.0|     B6|   725| N804JB|   JFK| BQN|   183.0|    1576|   5|    45|2013-01-01 05:00:00|     JetBlue Airways|\n",
      "|  4|2013|    1|  1|   554.0|           600|     -6.0|   812.0|           837|    -25.0|     DL|   461| N668DN|   LGA| ATL|   116.0|     762|   6|     0|2013-01-01 06:00:00|Delta Air Lines Inc.|\n",
      "+---+----+-----+---+--------+--------------+---------+--------+--------------+---------+-------+------+-------+------+----+--------+--------+----+------+-------------------+--------------------+\n",
      "only showing top 5 rows\n",
      "\n"
     ]
    }
   ],
   "source": [
    "df.show(5)"
   ]
  },
  {
   "cell_type": "code",
   "execution_count": 5,
   "metadata": {},
   "outputs": [
    {
     "name": "stderr",
     "output_type": "stream",
     "text": [
      "[Stage 3:>                                                          (0 + 4) / 4]\r"
     ]
    },
    {
     "name": "stdout",
     "output_type": "stream",
     "text": [
      "(336776, 21)\n"
     ]
    },
    {
     "name": "stderr",
     "output_type": "stream",
     "text": [
      "                                                                                \r"
     ]
    }
   ],
   "source": [
    "#get size of the data\n",
    "print((df.count(), len(df.columns)))"
   ]
  },
  {
   "cell_type": "code",
   "execution_count": 6,
   "metadata": {},
   "outputs": [
    {
     "name": "stderr",
     "output_type": "stream",
     "text": [
      "                                                                                \r"
     ]
    },
    {
     "data": {
      "text/plain": [
       "3844"
      ]
     },
     "execution_count": 6,
     "metadata": {},
     "output_type": "execute_result"
    }
   ],
   "source": [
    "#get flight unique values \n",
    "df.select(\"flight\").distinct().count()"
   ]
  },
  {
   "cell_type": "code",
   "execution_count": 7,
   "metadata": {},
   "outputs": [
    {
     "name": "stdout",
     "output_type": "stream",
     "text": [
      "+----+----+-----+---+--------+--------------+---------+--------+--------------+---------+-------+------+-------+------+----+--------+--------+----+------+-------------------+--------------------+\n",
      "|  id|year|month|day|dep_time|sched_dep_time|dep_delay|arr_time|sched_arr_time|arr_delay|carrier|flight|tailnum|origin|dest|air_time|distance|hour|minute|          time_hour|                name|\n",
      "+----+----+-----+---+--------+--------------+---------+--------+--------------+---------+-------+------+-------+------+----+--------+--------+----+------+-------------------+--------------------+\n",
      "| 110|2013|    1|  1|   804.0|           810|     -6.0|  1103.0|          1116|    -13.0|     DL|  1959| N947DL|   JFK| MCO|   147.0|     944|   8|    10|2013-01-01 08:00:00|Delta Air Lines Inc.|\n",
      "| 991|2013|    1|  2|   800.0|           810|    -10.0|  1102.0|          1116|    -14.0|     DL|  1959| N995DL|   JFK| MCO|   143.0|     944|   8|    10|2013-01-02 08:00:00|Delta Air Lines Inc.|\n",
      "|1935|2013|    1|  3|   808.0|           810|     -2.0|  1126.0|          1116|     10.0|     DL|  1959| N915DE|   JFK| MCO|   157.0|     944|   8|    10|2013-01-03 08:00:00|Delta Air Lines Inc.|\n",
      "|2856|2013|    1|  4|   808.0|           810|     -2.0|  1110.0|          1116|     -6.0|     DL|  1959| N938DL|   JFK| MCO|   145.0|     944|   8|    10|2013-01-04 08:00:00|Delta Air Lines Inc.|\n",
      "|3731|2013|    1|  5|   803.0|           810|     -7.0|  1106.0|          1116|    -10.0|     DL|  1959| N940DL|   JFK| MCO|   142.0|     944|   8|    10|2013-01-05 08:00:00|Delta Air Lines Inc.|\n",
      "+----+----+-----+---+--------+--------------+---------+--------+--------------+---------+-------+------+-------+------+----+--------+--------+----+------+-------------------+--------------------+\n",
      "only showing top 5 rows\n",
      "\n"
     ]
    }
   ],
   "source": [
    "df[df[\"flight\"] == 1959].show(5)"
   ]
  },
  {
   "cell_type": "code",
   "execution_count": 8,
   "metadata": {},
   "outputs": [
    {
     "name": "stderr",
     "output_type": "stream",
     "text": [
      "[Stage 13:===========================================>              (3 + 1) / 4]\r"
     ]
    },
    {
     "name": "stdout",
     "output_type": "stream",
     "text": [
      "+------+-----+\n",
      "|flight|count|\n",
      "+------+-----+\n",
      "|   496|   10|\n",
      "|  1959|  330|\n",
      "|  4935|   32|\n",
      "|   471|  129|\n",
      "|  1580|   92|\n",
      "+------+-----+\n",
      "only showing top 5 rows\n",
      "\n"
     ]
    },
    {
     "name": "stderr",
     "output_type": "stream",
     "text": [
      "                                                                                \r"
     ]
    }
   ],
   "source": [
    "df.groupBy(\"flight\").count().show(5)"
   ]
  },
  {
   "cell_type": "markdown",
   "metadata": {},
   "source": [
    "Temos 336776 registros de voos. <br/>\n",
    "Temos 3844 registros único de voos, ou seja, 3844 voos que foram feitos mais de uma vez e com diferentes aeronaves, atrasos, número da cauda, etc. <br/>"
   ]
  },
  {
   "cell_type": "code",
   "execution_count": 9,
   "metadata": {},
   "outputs": [
    {
     "name": "stderr",
     "output_type": "stream",
     "text": [
      "                                                                                \r"
     ]
    },
    {
     "data": {
      "text/plain": [
       "8255"
      ]
     },
     "execution_count": 9,
     "metadata": {},
     "output_type": "execute_result"
    }
   ],
   "source": [
    "#filter df dep_time = null and arr_time = \n",
    "df.filter(df[\"dep_time\"].isNull() & df[\"arr_time\"].isNull()).count() "
   ]
  },
  {
   "cell_type": "markdown",
   "metadata": {},
   "source": [
    "8255 registros de voos foram cancelados. <br/>"
   ]
  },
  {
   "cell_type": "code",
   "execution_count": 10,
   "metadata": {},
   "outputs": [
    {
     "name": "stderr",
     "output_type": "stream",
     "text": [
      "[Stage 19:==============>                                           (1 + 3) / 4]\r"
     ]
    },
    {
     "name": "stdout",
     "output_type": "stream",
     "text": [
      "+-------+------------------+\n",
      "|summary|         dep_delay|\n",
      "+-------+------------------+\n",
      "|  count|            328521|\n",
      "|   mean|12.639070257304708|\n",
      "| stddev| 40.21006089212997|\n",
      "|    min|             -43.0|\n",
      "|    max|            1301.0|\n",
      "+-------+------------------+\n",
      "\n"
     ]
    },
    {
     "name": "stderr",
     "output_type": "stream",
     "text": [
      "                                                                                \r"
     ]
    }
   ],
   "source": [
    "df.select(\"dep_delay\").describe().show()"
   ]
  },
  {
   "cell_type": "code",
   "execution_count": 11,
   "metadata": {},
   "outputs": [],
   "source": [
    "not_cancelled_flights = df.filter(df[\"dep_time\"].isNotNull() | df[\"arr_time\"].isNotNull())"
   ]
  },
  {
   "cell_type": "code",
   "execution_count": 12,
   "metadata": {},
   "outputs": [
    {
     "name": "stderr",
     "output_type": "stream",
     "text": [
      "[Stage 22:=============================>                            (2 + 2) / 4]\r"
     ]
    },
    {
     "name": "stdout",
     "output_type": "stream",
     "text": [
      "+----+-----+\n",
      "|dest|count|\n",
      "+----+-----+\n",
      "| ATL|16898|\n",
      "| ORD|16642|\n",
      "| LAX|16076|\n",
      "| BOS|15049|\n",
      "| MCO|13982|\n",
      "+----+-----+\n",
      "only showing top 5 rows\n",
      "\n"
     ]
    },
    {
     "name": "stderr",
     "output_type": "stream",
     "text": [
      "                                                                                \r"
     ]
    }
   ],
   "source": [
    "not_cancelled_flights.groupBy(\"dest\").count().orderBy(\"count\", ascending=False).show(5)"
   ]
  },
  {
   "cell_type": "code",
   "execution_count": 13,
   "metadata": {},
   "outputs": [
    {
     "name": "stderr",
     "output_type": "stream",
     "text": [
      "[Stage 25:==============>                                           (1 + 3) / 4]\r"
     ]
    },
    {
     "name": "stdout",
     "output_type": "stream",
     "text": [
      "+------+----+-----+\n",
      "|origin|dest|count|\n",
      "+------+----+-----+\n",
      "|   JFK| LAX|11262|\n",
      "|   LGA| ATL|10263|\n",
      "|   LGA| ORD| 8857|\n",
      "|   JFK| SFO| 8204|\n",
      "|   LGA| CLT| 6168|\n",
      "+------+----+-----+\n",
      "only showing top 5 rows\n",
      "\n"
     ]
    },
    {
     "name": "stderr",
     "output_type": "stream",
     "text": [
      "                                                                                \r"
     ]
    }
   ],
   "source": [
    "df.groupBy([\"origin\", \"dest\"]).count().orderBy(\"count\", ascending=False).show(5)"
   ]
  },
  {
   "cell_type": "markdown",
   "metadata": {},
   "source": [
    "Maior tempo médio de atraso"
   ]
  },
  {
   "cell_type": "code",
   "execution_count": 14,
   "metadata": {},
   "outputs": [
    {
     "name": "stderr",
     "output_type": "stream",
     "text": [
      "[Stage 28:=============================>                            (2 + 2) / 4]\r"
     ]
    },
    {
     "name": "stdout",
     "output_type": "stream",
     "text": [
      "+----+------------------+\n",
      "|dest|     avg_dep_delay|\n",
      "+----+------------------+\n",
      "| CAE|35.570093457943926|\n",
      "| TUL| 34.90635451505017|\n",
      "| OKC|30.568807339449542|\n",
      "| BHM| 29.69485294117647|\n",
      "| TYS|28.493955094991364|\n",
      "+----+------------------+\n",
      "only showing top 5 rows\n",
      "\n"
     ]
    },
    {
     "name": "stderr",
     "output_type": "stream",
     "text": [
      "                                                                                \r"
     ]
    }
   ],
   "source": [
    "df.groupBy(\"dest\") \\\n",
    "    .mean(\"dep_delay\") \\\n",
    "    .withColumnRenamed(\"avg(dep_delay)\", \"avg_dep_delay\") \\\n",
    "    .orderBy(\"avg_dep_delay\", ascending=False) \\\n",
    "    .show(5)"
   ]
  },
  {
   "cell_type": "markdown",
   "metadata": {},
   "source": [
    "Dia da semana com maior número de voos"
   ]
  },
  {
   "cell_type": "code",
   "execution_count": 15,
   "metadata": {},
   "outputs": [
    {
     "name": "stdout",
     "output_type": "stream",
     "text": [
      "+-------------------+\n",
      "|          time_hour|\n",
      "+-------------------+\n",
      "|2013-01-01 05:00:00|\n",
      "|2013-01-01 05:00:00|\n",
      "|2013-01-01 05:00:00|\n",
      "|2013-01-01 05:00:00|\n",
      "|2013-01-01 06:00:00|\n",
      "|2013-01-01 05:00:00|\n",
      "|2013-01-01 06:00:00|\n",
      "|2013-01-01 06:00:00|\n",
      "|2013-01-01 06:00:00|\n",
      "|2013-01-01 06:00:00|\n",
      "|2013-01-01 06:00:00|\n",
      "|2013-01-01 06:00:00|\n",
      "|2013-01-01 06:00:00|\n",
      "|2013-01-01 06:00:00|\n",
      "|2013-01-01 06:00:00|\n",
      "|2013-01-01 05:00:00|\n",
      "|2013-01-01 06:00:00|\n",
      "|2013-01-01 06:00:00|\n",
      "|2013-01-01 06:00:00|\n",
      "|2013-01-01 06:00:00|\n",
      "+-------------------+\n",
      "only showing top 20 rows\n",
      "\n"
     ]
    }
   ],
   "source": [
    "df.select(['time_hour']).show()\n",
    "df_with_weekday = df.withColumn(\n",
    "    \"day_of_week\",\n",
    "    date_format(col(\"time_hour\"), \"EEEE\")\n",
    ")"
   ]
  },
  {
   "cell_type": "code",
   "execution_count": 16,
   "metadata": {},
   "outputs": [
    {
     "name": "stdout",
     "output_type": "stream",
     "text": [
      "+-------------------+-----------+\n",
      "|          time_hour|day_of_week|\n",
      "+-------------------+-----------+\n",
      "|2013-01-01 05:00:00|    Tuesday|\n",
      "|2013-01-01 05:00:00|    Tuesday|\n",
      "|2013-01-01 05:00:00|    Tuesday|\n",
      "|2013-01-01 05:00:00|    Tuesday|\n",
      "|2013-01-01 06:00:00|    Tuesday|\n",
      "+-------------------+-----------+\n",
      "only showing top 5 rows\n",
      "\n"
     ]
    }
   ],
   "source": [
    "df_with_weekday.select([\"time_hour\", \"day_of_week\"]).show(5)"
   ]
  },
  {
   "cell_type": "code",
   "execution_count": 17,
   "metadata": {},
   "outputs": [
    {
     "name": "stderr",
     "output_type": "stream",
     "text": [
      "[Stage 33:===========================================>              (3 + 1) / 4]\r"
     ]
    },
    {
     "name": "stdout",
     "output_type": "stream",
     "text": [
      "+-----------+-----+\n",
      "|day_of_week|count|\n",
      "+-----------+-----+\n",
      "|     Monday|50690|\n",
      "|    Tuesday|50422|\n",
      "|     Friday|50308|\n",
      "|   Thursday|50219|\n",
      "|  Wednesday|50060|\n",
      "|     Sunday|46357|\n",
      "|   Saturday|38720|\n",
      "+-----------+-----+\n",
      "\n"
     ]
    },
    {
     "name": "stderr",
     "output_type": "stream",
     "text": [
      "                                                                                \r"
     ]
    }
   ],
   "source": [
    "df_with_weekday.groupBy(\"day_of_week\").count().orderBy(\"count\", ascending=False).show()"
   ]
  },
  {
   "cell_type": "markdown",
   "metadata": {},
   "source": [
    "Data Split for Model Training"
   ]
  },
  {
   "cell_type": "code",
   "execution_count": 18,
   "metadata": {},
   "outputs": [
    {
     "name": "stdout",
     "output_type": "stream",
     "text": [
      "+---+----+-----+---+--------+--------------+---------+--------+--------------+---------+-------+------+-------+------+----+--------+--------+----+------+-------------------+--------------------+-----------+\n",
      "| id|year|month|day|dep_time|sched_dep_time|dep_delay|arr_time|sched_arr_time|arr_delay|carrier|flight|tailnum|origin|dest|air_time|distance|hour|minute|          time_hour|                name|day_of_week|\n",
      "+---+----+-----+---+--------+--------------+---------+--------+--------------+---------+-------+------+-------+------+----+--------+--------+----+------+-------------------+--------------------+-----------+\n",
      "|  0|2013|    1|  1|   517.0|           515|      2.0|   830.0|           819|     11.0|     UA|  1545| N14228|   EWR| IAH|   227.0|    1400|   5|    15|2013-01-01 05:00:00|United Air Lines ...|    Tuesday|\n",
      "|  1|2013|    1|  1|   533.0|           529|      4.0|   850.0|           830|     20.0|     UA|  1714| N24211|   LGA| IAH|   227.0|    1416|   5|    29|2013-01-01 05:00:00|United Air Lines ...|    Tuesday|\n",
      "+---+----+-----+---+--------+--------------+---------+--------+--------------+---------+-------+------+-------+------+----+--------+--------+----+------+-------------------+--------------------+-----------+\n",
      "only showing top 2 rows\n",
      "\n"
     ]
    }
   ],
   "source": [
    "df_with_weekday.show(2)"
   ]
  },
  {
   "cell_type": "code",
   "execution_count": 19,
   "metadata": {},
   "outputs": [],
   "source": [
    "X_columns = [\"distance\", \"dep_delay\", \"arr_delay\"]\n",
    "y_columns = \"air_time\""
   ]
  },
  {
   "cell_type": "code",
   "execution_count": 20,
   "metadata": {},
   "outputs": [],
   "source": [
    "X = df.select(X_columns)\n",
    "y = df.select(y_columns)"
   ]
  },
  {
   "cell_type": "code",
   "execution_count": 21,
   "metadata": {},
   "outputs": [
    {
     "name": "stdout",
     "output_type": "stream",
     "text": [
      "+--------+\n",
      "|air_time|\n",
      "+--------+\n",
      "|   227.0|\n",
      "|   227.0|\n",
      "|   160.0|\n",
      "|   183.0|\n",
      "|   116.0|\n",
      "|   150.0|\n",
      "|   158.0|\n",
      "|    53.0|\n",
      "|   140.0|\n",
      "|   138.0|\n",
      "|   149.0|\n",
      "|   158.0|\n",
      "|   345.0|\n",
      "|   361.0|\n",
      "|   257.0|\n",
      "|    44.0|\n",
      "|   337.0|\n",
      "|   152.0|\n",
      "|   134.0|\n",
      "|   147.0|\n",
      "+--------+\n",
      "only showing top 20 rows\n",
      "\n"
     ]
    }
   ],
   "source": [
    "y.show()"
   ]
  },
  {
   "cell_type": "code",
   "execution_count": 33,
   "metadata": {},
   "outputs": [
    {
     "data": {
      "text/plain": [
       "{'city_id': '5128581',\n",
       " 'city_name': 'New York City',\n",
       " 'country_code': 'US',\n",
       " 'data': [{'clouds': 37,\n",
       "   'datetime': '2023-01-01',\n",
       "   'dewpt': 5.7,\n",
       "   'dhi': 27,\n",
       "   'dni': 230,\n",
       "   'ghi': 99,\n",
       "   'max_dhi': 92,\n",
       "   'max_dni': 773,\n",
       "   'max_ghi': 427,\n",
       "   'max_temp': 11.9,\n",
       "   'max_temp_ts': 1672603200,\n",
       "   'max_uv': 2.2,\n",
       "   'max_wind_dir': 120,\n",
       "   'max_wind_spd': 5,\n",
       "   'max_wind_spd_ts': 1672588800,\n",
       "   'min_temp': 7.3,\n",
       "   'min_temp_ts': 1672624800,\n",
       "   'precip': 0.4,\n",
       "   'precip_gpm': 0.4,\n",
       "   'pres': 1010,\n",
       "   'revision_status': 'final',\n",
       "   'rh': 77,\n",
       "   'slp': 1013,\n",
       "   'snow': 0,\n",
       "   'snow_depth': None,\n",
       "   'solar_rad': 97,\n",
       "   't_dhi': 639,\n",
       "   't_dni': 5510,\n",
       "   't_ghi': 2378,\n",
       "   't_solar_rad': 2317,\n",
       "   'temp': 9.8,\n",
       "   'ts': 1672549200,\n",
       "   'wind_dir': 120,\n",
       "   'wind_gust_spd': 8.2,\n",
       "   'wind_spd': 3}],\n",
       " 'lat': 40.7128,\n",
       " 'lon': -74.006,\n",
       " 'sources': ['997271-99999',\n",
       "  '720553-99999',\n",
       "  'imerg',\n",
       "  'era5',\n",
       "  'modis',\n",
       "  'snodas'],\n",
       " 'state_code': 'NY',\n",
       " 'station_id': '720553-99999',\n",
       " 'timezone': 'America/New_York'}"
      ]
     },
     "execution_count": 33,
     "metadata": {},
     "output_type": "execute_result"
    }
   ],
   "source": [
    "import requests\n",
    "weatherbit_key = \"1f22b701b6904b66a169a5f52eddbed4\"\n",
    "latitude = 40.7128\n",
    "longitude = -74.0060\n",
    "start_date = '2023-01-01'\n",
    "end_date = '2023-01-02' # Sempre adicione +1 dia em relação ao start_date\n",
    "url = 'https://api.weatherbit.io/v2.0/history/daily'\n",
    "params = {\n",
    "'lat': latitude,\n",
    "'lon': longitude,\n",
    "'start_date': start_date,\n",
    "'end_date': end_date,\n",
    "'key': weatherbit_key,\n",
    "}\n",
    "headers = {\n",
    "'Accept': 'application/json',\n",
    "}\n",
    "response = requests.get(url, params=params, headers=headers)\n",
    "data = response.json()\n",
    "data\n"
   ]
  },
  {
   "cell_type": "code",
   "execution_count": 41,
   "metadata": {},
   "outputs": [
    {
     "data": {
      "text/plain": [
       "3"
      ]
     },
     "execution_count": 41,
     "metadata": {},
     "output_type": "execute_result"
    }
   ],
   "source": [
    "data['data'][0]['wind_spd']"
   ]
  },
  {
   "cell_type": "code",
   "execution_count": 24,
   "metadata": {},
   "outputs": [],
   "source": [
    "origins = df.select('origin').distinct()\n",
    "dests = df.select('dest').distinct()\n",
    "dests = dests.withColumnRenamed('dest', 'origin')\n",
    "unique_locations = origins.union(dests).distinct()\n",
    "location_list = [row['origin'] for row in unique_locations.collect()]"
   ]
  },
  {
   "cell_type": "code",
   "execution_count": 27,
   "metadata": {},
   "outputs": [],
   "source": [
    "parent_dir = os.path.abspath(os.path.join(os.getcwd(), '..'))\n",
    "sys.path.insert(0, parent_dir)"
   ]
  },
  {
   "cell_type": "code",
   "execution_count": 30,
   "metadata": {},
   "outputs": [],
   "source": [
    "location_dict = AirportDB.get_airport_data(location_list)"
   ]
  },
  {
   "cell_type": "code",
   "execution_count": 46,
   "metadata": {},
   "outputs": [],
   "source": [
    "from pyspark.sql.functions import udf\n",
    "from pyspark.sql.types import ArrayType, FloatType\n",
    "\n",
    "def get_location(airport_code):\n",
    "    return location_dict.get(airport_code, None)"
   ]
  },
  {
   "cell_type": "code",
   "execution_count": 47,
   "metadata": {},
   "outputs": [
    {
     "name": "stdout",
     "output_type": "stream",
     "text": [
      "+---+----+-----+---+--------+--------------+---------+--------+--------------+---------+-------+------+-------+------+----+--------+--------+----+------+-------------------+------------------------+-------------------+\n",
      "|id |year|month|day|dep_time|sched_dep_time|dep_delay|arr_time|sched_arr_time|arr_delay|carrier|flight|tailnum|origin|dest|air_time|distance|hour|minute|time_hour          |name                    |coordinates        |\n",
      "+---+----+-----+---+--------+--------------+---------+--------+--------------+---------+-------+------+-------+------+----+--------+--------+----+------+-------------------+------------------------+-------------------+\n",
      "|0  |2013|1    |1  |517.0   |515           |2.0      |830.0   |819           |11.0     |UA     |1545  |N14228 |EWR   |IAH |227.0   |1400    |5   |15    |2013-01-01 05:00:00|United Air Lines Inc.   |[40.6925, -74.1687]|\n",
      "|1  |2013|1    |1  |533.0   |529           |4.0      |850.0   |830           |20.0     |UA     |1714  |N24211 |LGA   |IAH |227.0   |1416    |5   |29    |2013-01-01 05:00:00|United Air Lines Inc.   |[40.7772, -73.8726]|\n",
      "|2  |2013|1    |1  |542.0   |540           |2.0      |923.0   |850           |33.0     |AA     |1141  |N619AA |JFK   |MIA |160.0   |1089    |5   |40    |2013-01-01 05:00:00|American Airlines Inc.  |[40.6398, -73.7789]|\n",
      "|3  |2013|1    |1  |544.0   |545           |-1.0     |1004.0  |1022          |-18.0    |B6     |725   |N804JB |JFK   |BQN |183.0   |1576    |5   |45    |2013-01-01 05:00:00|JetBlue Airways         |[40.6398, -73.7789]|\n",
      "|4  |2013|1    |1  |554.0   |600           |-6.0     |812.0   |837           |-25.0    |DL     |461   |N668DN |LGA   |ATL |116.0   |762     |6   |0     |2013-01-01 06:00:00|Delta Air Lines Inc.    |[40.7772, -73.8726]|\n",
      "|5  |2013|1    |1  |554.0   |558           |-4.0     |740.0   |728           |12.0     |UA     |1696  |N39463 |EWR   |ORD |150.0   |719     |5   |58    |2013-01-01 05:00:00|United Air Lines Inc.   |[40.6925, -74.1687]|\n",
      "|6  |2013|1    |1  |555.0   |600           |-5.0     |913.0   |854           |19.0     |B6     |507   |N516JB |EWR   |FLL |158.0   |1065    |6   |0     |2013-01-01 06:00:00|JetBlue Airways         |[40.6925, -74.1687]|\n",
      "|7  |2013|1    |1  |557.0   |600           |-3.0     |709.0   |723           |-14.0    |EV     |5708  |N829AS |LGA   |IAD |53.0    |229     |6   |0     |2013-01-01 06:00:00|ExpressJet Airlines Inc.|[40.7772, -73.8726]|\n",
      "|8  |2013|1    |1  |557.0   |600           |-3.0     |838.0   |846           |-8.0     |B6     |79    |N593JB |JFK   |MCO |140.0   |944     |6   |0     |2013-01-01 06:00:00|JetBlue Airways         |[40.6398, -73.7789]|\n",
      "|9  |2013|1    |1  |558.0   |600           |-2.0     |753.0   |745           |8.0      |AA     |301   |N3ALAA |LGA   |ORD |138.0   |733     |6   |0     |2013-01-01 06:00:00|American Airlines Inc.  |[40.7772, -73.8726]|\n",
      "|10 |2013|1    |1  |558.0   |600           |-2.0     |849.0   |851           |-2.0     |B6     |49    |N793JB |JFK   |PBI |149.0   |1028    |6   |0     |2013-01-01 06:00:00|JetBlue Airways         |[40.6398, -73.7789]|\n",
      "|11 |2013|1    |1  |558.0   |600           |-2.0     |853.0   |856           |-3.0     |B6     |71    |N657JB |JFK   |TPA |158.0   |1005    |6   |0     |2013-01-01 06:00:00|JetBlue Airways         |[40.6398, -73.7789]|\n",
      "|12 |2013|1    |1  |558.0   |600           |-2.0     |924.0   |917           |7.0      |UA     |194   |N29129 |JFK   |LAX |345.0   |2475    |6   |0     |2013-01-01 06:00:00|United Air Lines Inc.   |[40.6398, -73.7789]|\n",
      "|13 |2013|1    |1  |558.0   |600           |-2.0     |923.0   |937           |-14.0    |UA     |1124  |N53441 |EWR   |SFO |361.0   |2565    |6   |0     |2013-01-01 06:00:00|United Air Lines Inc.   |[40.6925, -74.1687]|\n",
      "|14 |2013|1    |1  |559.0   |600           |-1.0     |941.0   |910           |31.0     |AA     |707   |N3DUAA |LGA   |DFW |257.0   |1389    |6   |0     |2013-01-01 06:00:00|American Airlines Inc.  |[40.7772, -73.8726]|\n",
      "|15 |2013|1    |1  |559.0   |559           |0.0      |702.0   |706           |-4.0     |B6     |1806  |N708JB |JFK   |BOS |44.0    |187     |5   |59    |2013-01-01 05:00:00|JetBlue Airways         |[40.6398, -73.7789]|\n",
      "|16 |2013|1    |1  |559.0   |600           |-1.0     |854.0   |902           |-8.0     |UA     |1187  |N76515 |EWR   |LAS |337.0   |2227    |6   |0     |2013-01-01 06:00:00|United Air Lines Inc.   |[40.6925, -74.1687]|\n",
      "|17 |2013|1    |1  |600.0   |600           |0.0      |851.0   |858           |-7.0     |B6     |371   |N595JB |LGA   |FLL |152.0   |1076    |6   |0     |2013-01-01 06:00:00|JetBlue Airways         |[40.7772, -73.8726]|\n",
      "|18 |2013|1    |1  |600.0   |600           |0.0      |837.0   |825           |12.0     |MQ     |4650  |N542MQ |LGA   |ATL |134.0   |762     |6   |0     |2013-01-01 06:00:00|Envoy Air               |[40.7772, -73.8726]|\n",
      "|19 |2013|1    |1  |601.0   |600           |1.0      |844.0   |850           |-6.0     |B6     |343   |N644JB |EWR   |PBI |147.0   |1023    |6   |0     |2013-01-01 06:00:00|JetBlue Airways         |[40.6925, -74.1687]|\n",
      "+---+----+-----+---+--------+--------------+---------+--------+--------------+---------+-------+------+-------+------+----+--------+--------+----+------+-------------------+------------------------+-------------------+\n",
      "only showing top 20 rows\n",
      "\n"
     ]
    }
   ],
   "source": [
    "get_location_udf = udf(get_location,  ArrayType(FloatType()))\n",
    "\n",
    "df_with_coordinates = df.withColumn(\"origin_coordinates\", get_location_udf(df[\"origin\"]))\n",
    "\n",
    "df_with_coordinates.show(truncate=False)"
   ]
  },
  {
   "cell_type": "code",
   "execution_count": null,
   "metadata": {},
   "outputs": [],
   "source": []
  }
 ],
 "metadata": {
  "kernelspec": {
   "display_name": ".venv",
   "language": "python",
   "name": "python3"
  },
  "language_info": {
   "codemirror_mode": {
    "name": "ipython",
    "version": 3
   },
   "file_extension": ".py",
   "mimetype": "text/x-python",
   "name": "python",
   "nbconvert_exporter": "python",
   "pygments_lexer": "ipython3",
   "version": "3.10.14"
  }
 },
 "nbformat": 4,
 "nbformat_minor": 2
}
